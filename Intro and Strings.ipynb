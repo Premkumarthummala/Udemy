{
 "cells": [
  {
   "cell_type": "code",
   "execution_count": null,
   "id": "bfb18cd1",
   "metadata": {},
   "outputs": [],
   "source": [
    "print(\"Hello\")"
   ]
  },
  {
   "cell_type": "code",
   "execution_count": 2,
   "id": "a8871dd6",
   "metadata": {},
   "outputs": [
    {
     "data": {
      "text/plain": [
       "1"
      ]
     },
     "execution_count": 2,
     "metadata": {},
     "output_type": "execute_result"
    }
   ],
   "source": [
    "1"
   ]
  },
  {
   "cell_type": "markdown",
   "id": "8cc35022",
   "metadata": {},
   "source": [
    "If we select markdown, we can make notes  or we can use # in code"
   ]
  },
  {
   "cell_type": "markdown",
   "id": "451e6783",
   "metadata": {},
   "source": []
  },
  {
   "cell_type": "code",
   "execution_count": 1,
   "id": "304efe10",
   "metadata": {},
   "outputs": [
    {
     "data": {
      "text/plain": [
       "2"
      ]
     },
     "execution_count": 1,
     "metadata": {},
     "output_type": "execute_result"
    }
   ],
   "source": [
    "1+1\n"
   ]
  },
  {
   "cell_type": "code",
   "execution_count": 2,
   "id": "373ae2de",
   "metadata": {},
   "outputs": [
    {
     "data": {
      "text/plain": [
       "4"
      ]
     },
     "execution_count": 2,
     "metadata": {},
     "output_type": "execute_result"
    }
   ],
   "source": [
    "2*2\n"
   ]
  },
  {
   "cell_type": "code",
   "execution_count": 6,
   "id": "105266a7",
   "metadata": {},
   "outputs": [
    {
     "data": {
      "text/plain": [
       "2.5"
      ]
     },
     "execution_count": 6,
     "metadata": {},
     "output_type": "execute_result"
    }
   ],
   "source": [
    "5 / 2 # this is called common division"
   ]
  },
  {
   "cell_type": "code",
   "execution_count": 7,
   "id": "29d8fb52",
   "metadata": {},
   "outputs": [
    {
     "data": {
      "text/plain": [
       "2"
      ]
     },
     "execution_count": 7,
     "metadata": {},
     "output_type": "execute_result"
    }
   ],
   "source": [
    "5 // 2  #this is called as floor division\n"
   ]
  },
  {
   "cell_type": "code",
   "execution_count": 8,
   "id": "979ddda3",
   "metadata": {},
   "outputs": [
    {
     "data": {
      "text/plain": [
       "1"
      ]
     },
     "execution_count": 8,
     "metadata": {},
     "output_type": "execute_result"
    }
   ],
   "source": [
    "29 % 4 #This gives remainder. commonly used to know even or odd"
   ]
  },
  {
   "cell_type": "code",
   "execution_count": 9,
   "id": "caf6549a",
   "metadata": {},
   "outputs": [
    {
     "data": {
      "text/plain": [
       "0"
      ]
     },
     "execution_count": 9,
     "metadata": {},
     "output_type": "execute_result"
    }
   ],
   "source": [
    "30 % 5\n"
   ]
  },
  {
   "cell_type": "code",
   "execution_count": 12,
   "id": "42d07e84",
   "metadata": {},
   "outputs": [
    {
     "data": {
      "text/plain": [
       "8"
      ]
     },
     "execution_count": 12,
     "metadata": {},
     "output_type": "execute_result"
    }
   ],
   "source": [
    "2 ** 3   #this gives 2 power of 3"
   ]
  },
  {
   "cell_type": "code",
   "execution_count": 13,
   "id": "ddd2a955",
   "metadata": {},
   "outputs": [
    {
     "data": {
      "text/plain": [
       "200"
      ]
     },
     "execution_count": 13,
     "metadata": {},
     "output_type": "execute_result"
    }
   ],
   "source": [
    "2 + 10 * 20 - 2    #python always follows BODAMAS rule "
   ]
  },
  {
   "cell_type": "code",
   "execution_count": 15,
   "id": "a575cba8",
   "metadata": {},
   "outputs": [
    {
     "data": {
      "text/plain": [
       "216"
      ]
     },
     "execution_count": 15,
     "metadata": {},
     "output_type": "execute_result"
    }
   ],
   "source": [
    "(2 + 10) * (20 - 2) # so we can use mathematics rules in python\n"
   ]
  },
  {
   "cell_type": "code",
   "execution_count": 16,
   "id": "92395965",
   "metadata": {},
   "outputs": [],
   "source": [
    "a = 5"
   ]
  },
  {
   "cell_type": "code",
   "execution_count": 17,
   "id": "57844386",
   "metadata": {},
   "outputs": [
    {
     "data": {
      "text/plain": [
       "5"
      ]
     },
     "execution_count": 17,
     "metadata": {},
     "output_type": "execute_result"
    }
   ],
   "source": [
    "a"
   ]
  },
  {
   "cell_type": "code",
   "execution_count": 18,
   "id": "f3b01e53",
   "metadata": {},
   "outputs": [],
   "source": [
    "a = 10 # python enables user to change values at anytime"
   ]
  },
  {
   "cell_type": "code",
   "execution_count": 19,
   "id": "502d2983",
   "metadata": {},
   "outputs": [
    {
     "data": {
      "text/plain": [
       "10"
      ]
     },
     "execution_count": 19,
     "metadata": {},
     "output_type": "execute_result"
    }
   ],
   "source": [
    "a"
   ]
  },
  {
   "cell_type": "code",
   "execution_count": 20,
   "id": "7b4a172e",
   "metadata": {},
   "outputs": [
    {
     "data": {
      "text/plain": [
       "20"
      ]
     },
     "execution_count": 20,
     "metadata": {},
     "output_type": "execute_result"
    }
   ],
   "source": [
    "a + a"
   ]
  },
  {
   "cell_type": "code",
   "execution_count": 21,
   "id": "c4064fcf",
   "metadata": {},
   "outputs": [
    {
     "data": {
      "text/plain": [
       "10000000000"
      ]
     },
     "execution_count": 21,
     "metadata": {},
     "output_type": "execute_result"
    }
   ],
   "source": [
    "a ** a"
   ]
  },
  {
   "cell_type": "code",
   "execution_count": 24,
   "id": "56a9dbac",
   "metadata": {},
   "outputs": [],
   "source": [
    "a = a + a + a #reassignment"
   ]
  },
  {
   "cell_type": "code",
   "execution_count": 25,
   "id": "93d7c0dd",
   "metadata": {},
   "outputs": [
    {
     "data": {
      "text/plain": [
       "60"
      ]
     },
     "execution_count": 25,
     "metadata": {},
     "output_type": "execute_result"
    }
   ],
   "source": [
    "a"
   ]
  },
  {
   "cell_type": "code",
   "execution_count": 26,
   "id": "22b42854",
   "metadata": {},
   "outputs": [
    {
     "data": {
      "text/plain": [
       "int"
      ]
     },
     "execution_count": 26,
     "metadata": {},
     "output_type": "execute_result"
    }
   ],
   "source": [
    "type(a) # we can find datatype by using \"type()\" in-bulid keyword"
   ]
  },
  {
   "cell_type": "code",
   "execution_count": 27,
   "id": "492916db",
   "metadata": {},
   "outputs": [],
   "source": [
    "a =30.1"
   ]
  },
  {
   "cell_type": "code",
   "execution_count": 28,
   "id": "a3681250",
   "metadata": {},
   "outputs": [
    {
     "data": {
      "text/plain": [
       "float"
      ]
     },
     "execution_count": 28,
     "metadata": {},
     "output_type": "execute_result"
    }
   ],
   "source": [
    "type(a)"
   ]
  },
  {
   "cell_type": "code",
   "execution_count": 29,
   "id": "d7202d5e",
   "metadata": {},
   "outputs": [],
   "source": [
    "# variable name should be in-bulid keywords"
   ]
  },
  {
   "cell_type": "code",
   "execution_count": 32,
   "id": "f8b42860",
   "metadata": {},
   "outputs": [],
   "source": [
    "income  =  25000\n",
    "tax_rate   = 0.2\n",
    "\n",
    "my_taxes = income * tax_rate"
   ]
  },
  {
   "cell_type": "code",
   "execution_count": 34,
   "id": "e5758334",
   "metadata": {},
   "outputs": [
    {
     "data": {
      "text/plain": [
       "5000.0"
      ]
     },
     "execution_count": 34,
     "metadata": {},
     "output_type": "execute_result"
    }
   ],
   "source": [
    "my_taxes"
   ]
  },
  {
   "cell_type": "markdown",
   "id": "ae96b0a4",
   "metadata": {},
   "source": [
    "# strings"
   ]
  },
  {
   "cell_type": "code",
   "execution_count": 40,
   "id": "0c1916d0",
   "metadata": {},
   "outputs": [],
   "source": [
    "#strings are usually in the sequences of order []\n",
    "#Indexing starts at 0 these actions use [] brackets\n",
    "# Reverse indexing starts from -1\n",
    "#slicing allows us to grad a set of multiple characters\n",
    "  #syntax [start:stop:step] \"numerical indexes\" step means size of set required"
   ]
  },
  {
   "cell_type": "code",
   "execution_count": 41,
   "id": "4c580436",
   "metadata": {},
   "outputs": [
    {
     "data": {
      "text/plain": [
       "'Hello'"
      ]
     },
     "execution_count": 41,
     "metadata": {},
     "output_type": "execute_result"
    }
   ],
   "source": [
    "\"Hello\""
   ]
  },
  {
   "cell_type": "code",
   "execution_count": 43,
   "id": "8d272d62",
   "metadata": {},
   "outputs": [
    {
     "data": {
      "text/plain": [
       "'String can be in \"_\".'"
      ]
     },
     "execution_count": 43,
     "metadata": {},
     "output_type": "execute_result"
    }
   ],
   "source": [
    "'String can be in \"_\".'"
   ]
  },
  {
   "cell_type": "code",
   "execution_count": 44,
   "id": "08d6f1ae",
   "metadata": {},
   "outputs": [
    {
     "data": {
      "text/plain": [
       "\"I'm gonna sleep\""
      ]
     },
     "execution_count": 44,
     "metadata": {},
     "output_type": "execute_result"
    }
   ],
   "source": [
    "\"I'm gonna sleep\""
   ]
  },
  {
   "cell_type": "code",
   "execution_count": 45,
   "id": "163c40cd",
   "metadata": {},
   "outputs": [
    {
     "name": "stdout",
     "output_type": "stream",
     "text": [
      "Hello world\n"
     ]
    }
   ],
   "source": [
    "print(\"Hello world\")"
   ]
  },
  {
   "cell_type": "code",
   "execution_count": 47,
   "id": "580de113",
   "metadata": {},
   "outputs": [
    {
     "name": "stdout",
     "output_type": "stream",
     "text": [
      " Hello \n",
      " world\n"
     ]
    }
   ],
   "source": [
    "print(\" Hello \\n world\")   #\\n helps to make a new line"
   ]
  },
  {
   "cell_type": "code",
   "execution_count": 48,
   "id": "0d2622df",
   "metadata": {},
   "outputs": [
    {
     "name": "stdout",
     "output_type": "stream",
     "text": [
      " Hello \t world\n"
     ]
    }
   ],
   "source": [
    "print(\" Hello \\t world\")"
   ]
  },
  {
   "cell_type": "code",
   "execution_count": 50,
   "id": "c1955409",
   "metadata": {},
   "outputs": [
    {
     "data": {
      "text/plain": [
       "5"
      ]
     },
     "execution_count": 50,
     "metadata": {},
     "output_type": "execute_result"
    }
   ],
   "source": [
    "len(\"Hello\")     #len() is in-bulit words helps to find no.of characters"
   ]
  },
  {
   "cell_type": "code",
   "execution_count": 53,
   "id": "75fcdbf8",
   "metadata": {},
   "outputs": [
    {
     "data": {
      "text/plain": [
       "7"
      ]
     },
     "execution_count": 53,
     "metadata": {},
     "output_type": "execute_result"
    }
   ],
   "source": [
    "len(\" Hello \")  #spacing are counted in python"
   ]
  },
  {
   "cell_type": "markdown",
   "id": "c56613d2",
   "metadata": {},
   "source": [
    "indexing and slicing"
   ]
  },
  {
   "cell_type": "code",
   "execution_count": 54,
   "id": "9cbe622b",
   "metadata": {},
   "outputs": [],
   "source": [
    "string = \"Prem\" #Indexing starts at 0 these actions use [] brackets"
   ]
  },
  {
   "cell_type": "code",
   "execution_count": 55,
   "id": "2c2abc7d",
   "metadata": {},
   "outputs": [
    {
     "data": {
      "text/plain": [
       "'P'"
      ]
     },
     "execution_count": 55,
     "metadata": {},
     "output_type": "execute_result"
    }
   ],
   "source": [
    "string[0]"
   ]
  },
  {
   "cell_type": "code",
   "execution_count": 56,
   "id": "ff7b4b06",
   "metadata": {},
   "outputs": [
    {
     "data": {
      "text/plain": [
       "'e'"
      ]
     },
     "execution_count": 56,
     "metadata": {},
     "output_type": "execute_result"
    }
   ],
   "source": [
    "string[2]"
   ]
  },
  {
   "cell_type": "code",
   "execution_count": 57,
   "id": "23b0d6d6",
   "metadata": {},
   "outputs": [
    {
     "data": {
      "text/plain": [
       "'m'"
      ]
     },
     "execution_count": 57,
     "metadata": {},
     "output_type": "execute_result"
    }
   ],
   "source": [
    "string[-1]"
   ]
  },
  {
   "cell_type": "code",
   "execution_count": 58,
   "id": "2cd8a5d7",
   "metadata": {},
   "outputs": [
    {
     "data": {
      "text/plain": [
       "'e'"
      ]
     },
     "execution_count": 58,
     "metadata": {},
     "output_type": "execute_result"
    }
   ],
   "source": [
    "string[-2]"
   ]
  },
  {
   "cell_type": "code",
   "execution_count": 60,
   "id": "dde82c60",
   "metadata": {},
   "outputs": [],
   "source": [
    "string = \"1234567\" #slicing allows us to grad a set of multiple characters"
   ]
  },
  {
   "cell_type": "code",
   "execution_count": 61,
   "id": "cae123e3",
   "metadata": {},
   "outputs": [
    {
     "data": {
      "text/plain": [
       "'1234567'"
      ]
     },
     "execution_count": 61,
     "metadata": {},
     "output_type": "execute_result"
    }
   ],
   "source": [
    "string"
   ]
  },
  {
   "cell_type": "code",
   "execution_count": 64,
   "id": "ccc90012",
   "metadata": {},
   "outputs": [
    {
     "data": {
      "text/plain": [
       "'34567'"
      ]
     },
     "execution_count": 64,
     "metadata": {},
     "output_type": "execute_result"
    }
   ],
   "source": [
    "string[2:]    #syntax [start:stop:step] its a set of numbers after index 2 to last\n",
    "               # because it has to stopping point"
   ]
  },
  {
   "cell_type": "code",
   "execution_count": 66,
   "id": "f6be606c",
   "metadata": {},
   "outputs": [
    {
     "data": {
      "text/plain": [
       "'3456'"
      ]
     },
     "execution_count": 66,
     "metadata": {},
     "output_type": "execute_result"
    }
   ],
   "source": [
    "string[2:6]  # it has stopping point"
   ]
  },
  {
   "cell_type": "code",
   "execution_count": 67,
   "id": "208c3cb4",
   "metadata": {},
   "outputs": [
    {
     "data": {
      "text/plain": [
       "'345'"
      ]
     },
     "execution_count": 67,
     "metadata": {},
     "output_type": "execute_result"
    }
   ],
   "source": [
    "string[2:5]"
   ]
  },
  {
   "cell_type": "code",
   "execution_count": 68,
   "id": "77a6a926",
   "metadata": {},
   "outputs": [
    {
     "data": {
      "text/plain": [
       "'123'"
      ]
     },
     "execution_count": 68,
     "metadata": {},
     "output_type": "execute_result"
    }
   ],
   "source": [
    "string[:3] # now this has stopping point without starting point\n",
    "           # does not index 3"
   ]
  },
  {
   "cell_type": "code",
   "execution_count": 69,
   "id": "77338568",
   "metadata": {},
   "outputs": [
    {
     "data": {
      "text/plain": [
       "'357'"
      ]
     },
     "execution_count": 69,
     "metadata": {},
     "output_type": "execute_result"
    }
   ],
   "source": [
    "string[2::2]"
   ]
  },
  {
   "cell_type": "code",
   "execution_count": 70,
   "id": "e1162dfb",
   "metadata": {},
   "outputs": [
    {
     "data": {
      "text/plain": [
       "'1357'"
      ]
     },
     "execution_count": 70,
     "metadata": {},
     "output_type": "execute_result"
    }
   ],
   "source": [
    " string[::2]"
   ]
  },
  {
   "cell_type": "code",
   "execution_count": 71,
   "id": "155ea9f3",
   "metadata": {},
   "outputs": [
    {
     "data": {
      "text/plain": [
       "'7654321'"
      ]
     },
     "execution_count": 71,
     "metadata": {},
     "output_type": "execute_result"
    }
   ],
   "source": [
    "string[::-1]"
   ]
  },
  {
   "cell_type": "markdown",
   "id": "cc58f5f1",
   "metadata": {},
   "source": [
    "# String properties and methods"
   ]
  },
  {
   "cell_type": "markdown",
   "id": "729e3f8a",
   "metadata": {},
   "source": [
    "string is not mutable so we can use concatenation\n"
   ]
  },
  {
   "cell_type": "code",
   "execution_count": 75,
   "id": "a172b597",
   "metadata": {},
   "outputs": [],
   "source": [
    "name = \"Sam\" #now we need to change into ram"
   ]
  },
  {
   "cell_type": "code",
   "execution_count": 73,
   "id": "b3f974f9",
   "metadata": {},
   "outputs": [],
   "source": [
    "# name[0]= \"R\" #ERROR not mutable"
   ]
  },
  {
   "cell_type": "code",
   "execution_count": 76,
   "id": "9e47cf24",
   "metadata": {},
   "outputs": [
    {
     "data": {
      "text/plain": [
       "'am'"
      ]
     },
     "execution_count": 76,
     "metadata": {},
     "output_type": "execute_result"
    }
   ],
   "source": [
    "name[1:]"
   ]
  },
  {
   "cell_type": "code",
   "execution_count": 77,
   "id": "f25114b5",
   "metadata": {},
   "outputs": [],
   "source": [
    "last_letters = name[1:]"
   ]
  },
  {
   "cell_type": "code",
   "execution_count": 78,
   "id": "3968839c",
   "metadata": {},
   "outputs": [
    {
     "data": {
      "text/plain": [
       "'Ram'"
      ]
     },
     "execution_count": 78,
     "metadata": {},
     "output_type": "execute_result"
    }
   ],
   "source": [
    "\"R\" + last_letters"
   ]
  },
  {
   "cell_type": "code",
   "execution_count": 79,
   "id": "8e212335",
   "metadata": {},
   "outputs": [],
   "source": [
    "x = \"Hello World\""
   ]
  },
  {
   "cell_type": "code",
   "execution_count": 83,
   "id": "f9b2eecb",
   "metadata": {},
   "outputs": [],
   "source": [
    "x = x + \", it is very beacutiful outside!\""
   ]
  },
  {
   "cell_type": "code",
   "execution_count": 84,
   "id": "a06533ce",
   "metadata": {},
   "outputs": [
    {
     "data": {
      "text/plain": [
       "'Hello World, it is very beacutiful outside!, it is very beacutiful outside!'"
      ]
     },
     "execution_count": 84,
     "metadata": {},
     "output_type": "execute_result"
    }
   ],
   "source": [
    "x"
   ]
  },
  {
   "cell_type": "code",
   "execution_count": 86,
   "id": "ebc06d1a",
   "metadata": {},
   "outputs": [],
   "source": [
    "l = \"y\""
   ]
  },
  {
   "cell_type": "code",
   "execution_count": 87,
   "id": "a7c6af38",
   "metadata": {},
   "outputs": [
    {
     "data": {
      "text/plain": [
       "'yyyyyyyyyy'"
      ]
     },
     "execution_count": 87,
     "metadata": {},
     "output_type": "execute_result"
    }
   ],
   "source": [
    "l * 10"
   ]
  },
  {
   "cell_type": "code",
   "execution_count": 88,
   "id": "f9c449fd",
   "metadata": {},
   "outputs": [
    {
     "data": {
      "text/plain": [
       "5"
      ]
     },
     "execution_count": 88,
     "metadata": {},
     "output_type": "execute_result"
    }
   ],
   "source": [
    " 2 + 3"
   ]
  },
  {
   "cell_type": "code",
   "execution_count": 89,
   "id": "522bbe01",
   "metadata": {},
   "outputs": [
    {
     "data": {
      "text/plain": [
       "'23'"
      ]
     },
     "execution_count": 89,
     "metadata": {},
     "output_type": "execute_result"
    }
   ],
   "source": [
    "\"2\" + \"3\"  # careful while concatinating number"
   ]
  },
  {
   "cell_type": "code",
   "execution_count": 90,
   "id": "6a07d358",
   "metadata": {},
   "outputs": [],
   "source": [
    "x = \"Hello world\""
   ]
  },
  {
   "cell_type": "code",
   "execution_count": 91,
   "id": "e8be1b3c",
   "metadata": {},
   "outputs": [
    {
     "data": {
      "text/plain": [
       "'HELLO WORLD'"
      ]
     },
     "execution_count": 91,
     "metadata": {},
     "output_type": "execute_result"
    }
   ],
   "source": [
    "x.upper()   #without (), its not gonna work"
   ]
  },
  {
   "cell_type": "code",
   "execution_count": 95,
   "id": "e28c75fc",
   "metadata": {},
   "outputs": [
    {
     "data": {
      "text/plain": [
       "'hello world'"
      ]
     },
     "execution_count": 95,
     "metadata": {},
     "output_type": "execute_result"
    }
   ],
   "source": [
    "x.lower()"
   ]
  },
  {
   "cell_type": "code",
   "execution_count": 96,
   "id": "9a0f17b5",
   "metadata": {},
   "outputs": [
    {
     "data": {
      "text/plain": [
       "['Hello', 'world']"
      ]
     },
     "execution_count": 96,
     "metadata": {},
     "output_type": "execute_result"
    }
   ],
   "source": [
    "x.split()"
   ]
  },
  {
   "cell_type": "code",
   "execution_count": 99,
   "id": "4cc48e4f",
   "metadata": {},
   "outputs": [
    {
     "data": {
      "text/plain": [
       "['He', '', 'o wor', 'd']"
      ]
     },
     "execution_count": 99,
     "metadata": {},
     "output_type": "execute_result"
    }
   ],
   "source": [
    "x.split('l')"
   ]
  },
  {
   "cell_type": "code",
   "execution_count": 101,
   "id": "be4d5b0e",
   "metadata": {},
   "outputs": [
    {
     "data": {
      "text/plain": [
       "'HELLO WORLD'"
      ]
     },
     "execution_count": 101,
     "metadata": {},
     "output_type": "execute_result"
    }
   ],
   "source": [
    "x.upper()"
   ]
  },
  {
   "cell_type": "markdown",
   "id": "1e672461",
   "metadata": {},
   "source": [
    " # .format() method\n",
    " \n",
    " syntax {\"String here\"}.fromat(\"something1\",\"something2\")"
   ]
  },
  {
   "cell_type": "code",
   "execution_count": 103,
   "id": "072da385",
   "metadata": {},
   "outputs": [
    {
     "name": "stdout",
     "output_type": "stream",
     "text": [
      "ram is good boy\n"
     ]
    }
   ],
   "source": [
    " print(\"ram is good{}\".format(\" boy\")) #format helps to add strings"
   ]
  },
  {
   "cell_type": "code",
   "execution_count": 106,
   "id": "34dced92",
   "metadata": {},
   "outputs": [
    {
     "name": "stdout",
     "output_type": "stream",
     "text": [
      "he is very good\n"
     ]
    }
   ],
   "source": [
    "print(\"he {} {} {}\".format(\"is\",\"very\",\"good\"))"
   ]
  },
  {
   "cell_type": "code",
   "execution_count": 108,
   "id": "5f539f4d",
   "metadata": {},
   "outputs": [
    {
     "name": "stdout",
     "output_type": "stream",
     "text": [
      "he very is good\n"
     ]
    }
   ],
   "source": [
    "print(\"he {1} {0} {2}\".format(\"is\",\"very\",\"good\")) # we can assign index"
   ]
  },
  {
   "cell_type": "code",
   "execution_count": 109,
   "id": "b83ba95c",
   "metadata": {},
   "outputs": [
    {
     "name": "stdout",
     "output_type": "stream",
     "text": [
      "he is is is\n"
     ]
    }
   ],
   "source": [
    "print(\"he {0} {0} {0}\".format(\"is\",\"very\",\"good\"))"
   ]
  },
  {
   "cell_type": "code",
   "execution_count": 112,
   "id": "892101ff",
   "metadata": {},
   "outputs": [
    {
     "name": "stdout",
     "output_type": "stream",
     "text": [
      "he good very is\n"
     ]
    }
   ],
   "source": [
    "print(\"he {g} {v} {i}\".format(i=\"is\",v=\"very\",g=\"good\")) # we can assign names to index"
   ]
  },
  {
   "cell_type": "code",
   "execution_count": 113,
   "id": "2f72cea6",
   "metadata": {},
   "outputs": [
    {
     "name": "stdout",
     "output_type": "stream",
     "text": [
      "he good good good\n"
     ]
    }
   ],
   "source": [
    "print(\"he {g} {g} {g}\".format(i=\"is\",v=\"very\",g=\"good\"))"
   ]
  },
  {
   "cell_type": "code",
   "execution_count": 115,
   "id": "7d881b45",
   "metadata": {},
   "outputs": [],
   "source": [
    " # format is mostly used in formatting numbers\n",
    "    # synatx (\"string{value:width.precision f}\".format())"
   ]
  },
  {
   "cell_type": "code",
   "execution_count": 116,
   "id": "92bae9bd",
   "metadata": {},
   "outputs": [],
   "source": [
    "result = 1.243298434"
   ]
  },
  {
   "cell_type": "code",
   "execution_count": 117,
   "id": "d509926e",
   "metadata": {},
   "outputs": [
    {
     "data": {
      "text/plain": [
       "1.243298434"
      ]
     },
     "execution_count": 117,
     "metadata": {},
     "output_type": "execute_result"
    }
   ],
   "source": [
    "result"
   ]
  },
  {
   "cell_type": "code",
   "execution_count": 123,
   "id": "3ece92cc",
   "metadata": {},
   "outputs": [
    {
     "name": "stdout",
     "output_type": "stream",
     "text": [
      "The end result was 1.243298434\n"
     ]
    }
   ],
   "source": [
    "# to round up\n",
    "print(\"The end result was {}\".format(result))\n"
   ]
  },
  {
   "cell_type": "code",
   "execution_count": 125,
   "id": "c1d83226",
   "metadata": {},
   "outputs": [
    {
     "name": "stdout",
     "output_type": "stream",
     "text": [
      "The end result was 1.243\n"
     ]
    }
   ],
   "source": [
    "print(\"The end result was {r:1.3f}\".format(r=result))"
   ]
  },
  {
   "cell_type": "markdown",
   "id": "85bc0678",
   "metadata": {},
   "source": [
    "# f - string"
   ]
  },
  {
   "cell_type": "code",
   "execution_count": 126,
   "id": "fabb790d",
   "metadata": {},
   "outputs": [],
   "source": [
    "# f - string is easy to use same as .format()\n",
    "\n",
    "name = \"prem\""
   ]
  },
  {
   "cell_type": "code",
   "execution_count": 127,
   "id": "40f19603",
   "metadata": {},
   "outputs": [
    {
     "name": "stdout",
     "output_type": "stream",
     "text": [
      "my name is prem\n"
     ]
    }
   ],
   "source": [
    "print(f\"my name is {name}\")"
   ]
  },
  {
   "cell_type": "code",
   "execution_count": 130,
   "id": "ca3cc330",
   "metadata": {},
   "outputs": [],
   "source": [
    "# we can multiple times as well.\n",
    "age = \"23 years\""
   ]
  },
  {
   "cell_type": "code",
   "execution_count": 131,
   "id": "bd5d28c5",
   "metadata": {},
   "outputs": [
    {
     "name": "stdout",
     "output_type": "stream",
     "text": [
      "prem is a 23 years old\n"
     ]
    }
   ],
   "source": [
    "print(f\"{name} is a {age} old\")"
   ]
  },
  {
   "cell_type": "code",
   "execution_count": 133,
   "id": "8a34fe93",
   "metadata": {},
   "outputs": [
    {
     "name": "stdout",
     "output_type": "stream",
     "text": [
      "he is very good\n"
     ]
    }
   ],
   "source": [
    "print(\"he is {} {}\".format(\"very\",\"good\"))"
   ]
  },
  {
   "cell_type": "code",
   "execution_count": null,
   "id": "5a4c002f",
   "metadata": {},
   "outputs": [],
   "source": []
  }
 ],
 "metadata": {
  "kernelspec": {
   "display_name": "Python 3 (ipykernel)",
   "language": "python",
   "name": "python3"
  },
  "language_info": {
   "codemirror_mode": {
    "name": "ipython",
    "version": 3
   },
   "file_extension": ".py",
   "mimetype": "text/x-python",
   "name": "python",
   "nbconvert_exporter": "python",
   "pygments_lexer": "ipython3",
   "version": "3.11.5"
  }
 },
 "nbformat": 4,
 "nbformat_minor": 5
}
