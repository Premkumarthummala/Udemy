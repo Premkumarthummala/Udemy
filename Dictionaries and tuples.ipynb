{
 "cells": [
  {
   "cell_type": "markdown",
   "id": "0d72227c",
   "metadata": {},
   "source": [
    "Dictonaries usaully has key-value pair which allows user to\n",
    "quciky grab objects without needing to know an index location"
   ]
  },
  {
   "cell_type": "code",
   "execution_count": 1,
   "id": "fa4f675b",
   "metadata": {},
   "outputs": [],
   "source": [
    "Dict = {\"Name\": \"Prem\",\"Class\":\"Gradute student\"}"
   ]
  },
  {
   "cell_type": "code",
   "execution_count": 2,
   "id": "da476b4c",
   "metadata": {},
   "outputs": [
    {
     "data": {
      "text/plain": [
       "{'Name': 'Prem', 'Class': 'Gradute student'}"
      ]
     },
     "execution_count": 2,
     "metadata": {},
     "output_type": "execute_result"
    }
   ],
   "source": [
    "Dict"
   ]
  },
  {
   "cell_type": "code",
   "execution_count": 7,
   "id": "f07e5816",
   "metadata": {},
   "outputs": [
    {
     "data": {
      "text/plain": [
       "'Prem'"
      ]
     },
     "execution_count": 7,
     "metadata": {},
     "output_type": "execute_result"
    }
   ],
   "source": [
    "Dict[\"Name\"]      # we can extract values using keys"
   ]
  },
  {
   "cell_type": "code",
   "execution_count": 8,
   "id": "f064590a",
   "metadata": {},
   "outputs": [
    {
     "data": {
      "text/plain": [
       "'Gradute student'"
      ]
     },
     "execution_count": 8,
     "metadata": {},
     "output_type": "execute_result"
    }
   ],
   "source": [
    "Dict[\"Class\"]"
   ]
  },
  {
   "cell_type": "code",
   "execution_count": 9,
   "id": "38b7f486",
   "metadata": {},
   "outputs": [],
   "source": [
    "prices = {\"apple\":2.5,\"milk\":2.99,\"chocolate\":3.22}"
   ]
  },
  {
   "cell_type": "code",
   "execution_count": 10,
   "id": "cc842233",
   "metadata": {},
   "outputs": [
    {
     "data": {
      "text/plain": [
       "2.5"
      ]
     },
     "execution_count": 10,
     "metadata": {},
     "output_type": "execute_result"
    }
   ],
   "source": [
    "prices[\"apple\"]"
   ]
  },
  {
   "cell_type": "code",
   "execution_count": 15,
   "id": "d4b27016",
   "metadata": {},
   "outputs": [],
   "source": [
    "d = {\"k1\":2932,\"k2\":[1,2,3], \"k3\":{\"note\":\"anything can hold\"}} #dict has able to hold lists as well"
   ]
  },
  {
   "cell_type": "code",
   "execution_count": 16,
   "id": "592d0a3c",
   "metadata": {},
   "outputs": [
    {
     "data": {
      "text/plain": [
       "[1, 2, 3]"
      ]
     },
     "execution_count": 16,
     "metadata": {},
     "output_type": "execute_result"
    }
   ],
   "source": [
    "d[\"k2\"]"
   ]
  },
  {
   "cell_type": "code",
   "execution_count": 17,
   "id": "0290858a",
   "metadata": {},
   "outputs": [
    {
     "data": {
      "text/plain": [
       "2"
      ]
     },
     "execution_count": 17,
     "metadata": {},
     "output_type": "execute_result"
    }
   ],
   "source": [
    "d[\"k2\"][1] # to extract anything from list we have to use index value"
   ]
  },
  {
   "cell_type": "code",
   "execution_count": 18,
   "id": "b457b3fb",
   "metadata": {},
   "outputs": [
    {
     "data": {
      "text/plain": [
       "{'note': 'anything can hold'}"
      ]
     },
     "execution_count": 18,
     "metadata": {},
     "output_type": "execute_result"
    }
   ],
   "source": [
    "d[\"k3\"]"
   ]
  },
  {
   "cell_type": "code",
   "execution_count": 19,
   "id": "e8535858",
   "metadata": {},
   "outputs": [
    {
     "data": {
      "text/plain": [
       "'anything can hold'"
      ]
     },
     "execution_count": 19,
     "metadata": {},
     "output_type": "execute_result"
    }
   ],
   "source": [
    "d[\"k3\"]['note']"
   ]
  },
  {
   "cell_type": "code",
   "execution_count": 20,
   "id": "200b7596",
   "metadata": {},
   "outputs": [],
   "source": [
    "d ={\"k1\":[1,2,3]}"
   ]
  },
  {
   "cell_type": "code",
   "execution_count": 21,
   "id": "01923d2f",
   "metadata": {},
   "outputs": [],
   "source": [
    "my_list = d[\"k1\"]"
   ]
  },
  {
   "cell_type": "code",
   "execution_count": 22,
   "id": "adf5df01",
   "metadata": {},
   "outputs": [
    {
     "data": {
      "text/plain": [
       "[1, 2, 3]"
      ]
     },
     "execution_count": 22,
     "metadata": {},
     "output_type": "execute_result"
    }
   ],
   "source": [
    "my_list"
   ]
  },
  {
   "cell_type": "code",
   "execution_count": 23,
   "id": "350a3d1a",
   "metadata": {},
   "outputs": [],
   "source": [
    "even = my_list[1]"
   ]
  },
  {
   "cell_type": "code",
   "execution_count": 24,
   "id": "ed9642f2",
   "metadata": {},
   "outputs": [
    {
     "data": {
      "text/plain": [
       "2"
      ]
     },
     "execution_count": 24,
     "metadata": {},
     "output_type": "execute_result"
    }
   ],
   "source": [
    "even"
   ]
  },
  {
   "cell_type": "code",
   "execution_count": 25,
   "id": "8898df26",
   "metadata": {},
   "outputs": [],
   "source": [
    "d = {\"k1\": 234,\"k2\":4643}  #adding values in dictonary is very easy"
   ]
  },
  {
   "cell_type": "code",
   "execution_count": 26,
   "id": "18310f9a",
   "metadata": {},
   "outputs": [
    {
     "data": {
      "text/plain": [
       "{'k1': 234, 'k2': 4643}"
      ]
     },
     "execution_count": 26,
     "metadata": {},
     "output_type": "execute_result"
    }
   ],
   "source": [
    "d "
   ]
  },
  {
   "cell_type": "code",
   "execution_count": 27,
   "id": "26e6a1ed",
   "metadata": {},
   "outputs": [],
   "source": [
    "d[\"k3\"] = 73482"
   ]
  },
  {
   "cell_type": "code",
   "execution_count": 28,
   "id": "86aaaed5",
   "metadata": {},
   "outputs": [
    {
     "data": {
      "text/plain": [
       "{'k1': 234, 'k2': 4643, 'k3': 73482}"
      ]
     },
     "execution_count": 28,
     "metadata": {},
     "output_type": "execute_result"
    }
   ],
   "source": [
    "d"
   ]
  },
  {
   "cell_type": "code",
   "execution_count": 29,
   "id": "54bd8068",
   "metadata": {},
   "outputs": [
    {
     "data": {
      "text/plain": [
       "dict_keys(['k1', 'k2', 'k3'])"
      ]
     },
     "execution_count": 29,
     "metadata": {},
     "output_type": "execute_result"
    }
   ],
   "source": [
    "d.keys()               #we can extract keys from the dictonaries"
   ]
  },
  {
   "cell_type": "code",
   "execution_count": 30,
   "id": "8e4cf733",
   "metadata": {},
   "outputs": [
    {
     "data": {
      "text/plain": [
       "dict_values([234, 4643, 73482])"
      ]
     },
     "execution_count": 30,
     "metadata": {},
     "output_type": "execute_result"
    }
   ],
   "source": [
    "d.values()           #we can extract values from the dictonaries"
   ]
  },
  {
   "cell_type": "code",
   "execution_count": 31,
   "id": "d12193d1",
   "metadata": {},
   "outputs": [
    {
     "data": {
      "text/plain": [
       "dict_items([('k1', 234), ('k2', 4643), ('k3', 73482)])"
      ]
     },
     "execution_count": 31,
     "metadata": {},
     "output_type": "execute_result"
    }
   ],
   "source": [
    "d.items()            "
   ]
  },
  {
   "cell_type": "markdown",
   "id": "a0a513ff",
   "metadata": {},
   "source": [
    "#TUPLES\n",
    "Tuples are almost similar to lists "
   ]
  },
  {
   "cell_type": "markdown",
   "id": "f66a4699",
   "metadata": {},
   "source": [
    "Once an element is insdie the tuple, it can not be reassigned\n",
    "tuples use parenthesis  (1,23,2)\n"
   ]
  },
  {
   "cell_type": "code",
   "execution_count": 32,
   "id": "66dd1c70",
   "metadata": {},
   "outputs": [],
   "source": [
    "t = (1,2,3)"
   ]
  },
  {
   "cell_type": "code",
   "execution_count": 33,
   "id": "dfd04695",
   "metadata": {},
   "outputs": [
    {
     "data": {
      "text/plain": [
       "(1, 2, 3)"
      ]
     },
     "execution_count": 33,
     "metadata": {},
     "output_type": "execute_result"
    }
   ],
   "source": [
    "t"
   ]
  },
  {
   "cell_type": "code",
   "execution_count": 34,
   "id": "29b157d5",
   "metadata": {},
   "outputs": [],
   "source": [
    "list =[1,2,3]"
   ]
  },
  {
   "cell_type": "code",
   "execution_count": 35,
   "id": "5003e08a",
   "metadata": {},
   "outputs": [
    {
     "data": {
      "text/plain": [
       "1"
      ]
     },
     "execution_count": 35,
     "metadata": {},
     "output_type": "execute_result"
    }
   ],
   "source": [
    "t[0]       #indexing and slicing works same as list"
   ]
  },
  {
   "cell_type": "code",
   "execution_count": 36,
   "id": "bda15b36",
   "metadata": {},
   "outputs": [
    {
     "data": {
      "text/plain": [
       "3"
      ]
     },
     "execution_count": 36,
     "metadata": {},
     "output_type": "execute_result"
    }
   ],
   "source": [
    "t[-1]"
   ]
  },
  {
   "cell_type": "code",
   "execution_count": 37,
   "id": "fd7b3050",
   "metadata": {},
   "outputs": [
    {
     "data": {
      "text/plain": [
       "1"
      ]
     },
     "execution_count": 37,
     "metadata": {},
     "output_type": "execute_result"
    }
   ],
   "source": [
    "list[0]"
   ]
  },
  {
   "cell_type": "code",
   "execution_count": 38,
   "id": "f97e3cf7",
   "metadata": {},
   "outputs": [],
   "source": [
    "#in list we can reassign values that not possible in tuple\n",
    "list[0] = \"New \""
   ]
  },
  {
   "cell_type": "code",
   "execution_count": 39,
   "id": "9777d444",
   "metadata": {},
   "outputs": [
    {
     "data": {
      "text/plain": [
       "['New ', 2, 3]"
      ]
     },
     "execution_count": 39,
     "metadata": {},
     "output_type": "execute_result"
    }
   ],
   "source": [
    "list         #we can see updated list  t[0] = \"new\" will give error"
   ]
  },
  {
   "cell_type": "code",
   "execution_count": 40,
   "id": "2460875a",
   "metadata": {},
   "outputs": [],
   "source": [
    "t = (\"a\", \"b\", \"a\",\"c\")"
   ]
  },
  {
   "cell_type": "code",
   "execution_count": 41,
   "id": "74551a95",
   "metadata": {},
   "outputs": [
    {
     "data": {
      "text/plain": [
       "2"
      ]
     },
     "execution_count": 41,
     "metadata": {},
     "output_type": "execute_result"
    }
   ],
   "source": [
    "t.count(\"a\")       #helps us to count number of repeations were done"
   ]
  },
  {
   "cell_type": "code",
   "execution_count": 42,
   "id": "c347fbfa",
   "metadata": {},
   "outputs": [
    {
     "data": {
      "text/plain": [
       "1"
      ]
     },
     "execution_count": 42,
     "metadata": {},
     "output_type": "execute_result"
    }
   ],
   "source": [
    "t.index(\"b\")    #helps us to find the index number of values"
   ]
  },
  {
   "cell_type": "code",
   "execution_count": 43,
   "id": "9ffe9626",
   "metadata": {},
   "outputs": [
    {
     "data": {
      "text/plain": [
       "0"
      ]
     },
     "execution_count": 43,
     "metadata": {},
     "output_type": "execute_result"
    }
   ],
   "source": [
    "t.index(\"a\")    #if it has repeatation, it gives the 1st index number it can find."
   ]
  },
  {
   "cell_type": "code",
   "execution_count": null,
   "id": "e067b457",
   "metadata": {},
   "outputs": [],
   "source": []
  }
 ],
 "metadata": {
  "kernelspec": {
   "display_name": "Python 3 (ipykernel)",
   "language": "python",
   "name": "python3"
  },
  "language_info": {
   "codemirror_mode": {
    "name": "ipython",
    "version": 3
   },
   "file_extension": ".py",
   "mimetype": "text/x-python",
   "name": "python",
   "nbconvert_exporter": "python",
   "pygments_lexer": "ipython3",
   "version": "3.11.5"
  }
 },
 "nbformat": 4,
 "nbformat_minor": 5
}
