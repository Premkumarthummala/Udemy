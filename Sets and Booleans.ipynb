{
 "cells": [
  {
   "cell_type": "markdown",
   "id": "5a9588ab",
   "metadata": {},
   "source": [
    "# SETS\n",
    "sets are unordered collections of unique elements"
   ]
  },
  {
   "cell_type": "code",
   "execution_count": 1,
   "id": "0bca025e",
   "metadata": {},
   "outputs": [],
   "source": [
    "sets = set()"
   ]
  },
  {
   "cell_type": "code",
   "execution_count": 2,
   "id": "19fae887",
   "metadata": {},
   "outputs": [
    {
     "data": {
      "text/plain": [
       "set()"
      ]
     },
     "execution_count": 2,
     "metadata": {},
     "output_type": "execute_result"
    }
   ],
   "source": [
    "sets"
   ]
  },
  {
   "cell_type": "code",
   "execution_count": 3,
   "id": "e077e158",
   "metadata": {},
   "outputs": [],
   "source": [
    "sets.add(1)     #set can be add using .add functions"
   ]
  },
  {
   "cell_type": "code",
   "execution_count": 4,
   "id": "9ba63af8",
   "metadata": {},
   "outputs": [
    {
     "data": {
      "text/plain": [
       "{1}"
      ]
     },
     "execution_count": 4,
     "metadata": {},
     "output_type": "execute_result"
    }
   ],
   "source": [
    "sets"
   ]
  },
  {
   "cell_type": "code",
   "execution_count": 5,
   "id": "8f468bb1",
   "metadata": {},
   "outputs": [],
   "source": [
    "sets.add(2)  # sets has flowers bracklets and only way to differntiate b/w dict and set. sets doesnot have values"
   ]
  },
  {
   "cell_type": "code",
   "execution_count": 6,
   "id": "3e2b4d3a",
   "metadata": {},
   "outputs": [
    {
     "data": {
      "text/plain": [
       "{1, 2}"
      ]
     },
     "execution_count": 6,
     "metadata": {},
     "output_type": "execute_result"
    }
   ],
   "source": [
    "sets"
   ]
  },
  {
   "cell_type": "code",
   "execution_count": 7,
   "id": "5cd20ce9",
   "metadata": {},
   "outputs": [],
   "source": [
    "sets.add(2)"
   ]
  },
  {
   "cell_type": "code",
   "execution_count": 8,
   "id": "be5d3cb1",
   "metadata": {},
   "outputs": [
    {
     "data": {
      "text/plain": [
       "{1, 2}"
      ]
     },
     "execution_count": 8,
     "metadata": {},
     "output_type": "execute_result"
    }
   ],
   "source": [
    "sets       # sets do not duplicate values only unique values"
   ]
  },
  {
   "cell_type": "code",
   "execution_count": 9,
   "id": "bff3ffbf",
   "metadata": {},
   "outputs": [],
   "source": [
    "my_list = [1,1,1,2,2,3,2,32,23,1,1,2,3,32.32,32]"
   ]
  },
  {
   "cell_type": "code",
   "execution_count": 10,
   "id": "87ce4818",
   "metadata": {},
   "outputs": [
    {
     "data": {
      "text/plain": [
       "{1, 2, 3, 23, 32, 32.32}"
      ]
     },
     "execution_count": 10,
     "metadata": {},
     "output_type": "execute_result"
    }
   ],
   "source": [
    "set(my_list)     #so we can use set to find unique elements."
   ]
  },
  {
   "cell_type": "markdown",
   "id": "94835c05",
   "metadata": {},
   "source": [
    "# Booleans\n",
    "booleans are operators that allows you to convey true or false"
   ]
  },
  {
   "cell_type": "code",
   "execution_count": 11,
   "id": "3fbaf4dd",
   "metadata": {},
   "outputs": [
    {
     "data": {
      "text/plain": [
       "True"
      ]
     },
     "execution_count": 11,
     "metadata": {},
     "output_type": "execute_result"
    }
   ],
   "source": [
    "True   #booleans are case sensitive. Make sure to use CAPTIAL \"T\" and \"F\""
   ]
  },
  {
   "cell_type": "code",
   "execution_count": 12,
   "id": "6f42d0d7",
   "metadata": {},
   "outputs": [
    {
     "data": {
      "text/plain": [
       "False"
      ]
     },
     "execution_count": 12,
     "metadata": {},
     "output_type": "execute_result"
    }
   ],
   "source": [
    "False"
   ]
  },
  {
   "cell_type": "code",
   "execution_count": 13,
   "id": "b65265c9",
   "metadata": {},
   "outputs": [
    {
     "data": {
      "text/plain": [
       "bool"
      ]
     },
     "execution_count": 13,
     "metadata": {},
     "output_type": "execute_result"
    }
   ],
   "source": [
    "type(False)"
   ]
  },
  {
   "cell_type": "code",
   "execution_count": 14,
   "id": "bb3c0073",
   "metadata": {},
   "outputs": [
    {
     "data": {
      "text/plain": [
       "False"
      ]
     },
     "execution_count": 14,
     "metadata": {},
     "output_type": "execute_result"
    }
   ],
   "source": [
    "1 > 3"
   ]
  },
  {
   "cell_type": "code",
   "execution_count": 15,
   "id": "b6ae12fe",
   "metadata": {},
   "outputs": [
    {
     "data": {
      "text/plain": [
       "True"
      ]
     },
     "execution_count": 15,
     "metadata": {},
     "output_type": "execute_result"
    }
   ],
   "source": [
    "1 == 1"
   ]
  },
  {
   "cell_type": "code",
   "execution_count": 16,
   "id": "0e4dea13",
   "metadata": {},
   "outputs": [],
   "source": [
    "b =  None  #we can use none to assign varaible and later we can assign values to that vaiable."
   ]
  },
  {
   "cell_type": "code",
   "execution_count": null,
   "id": "d22753a7",
   "metadata": {},
   "outputs": [],
   "source": []
  }
 ],
 "metadata": {
  "kernelspec": {
   "display_name": "Python 3 (ipykernel)",
   "language": "python",
   "name": "python3"
  },
  "language_info": {
   "codemirror_mode": {
    "name": "ipython",
    "version": 3
   },
   "file_extension": ".py",
   "mimetype": "text/x-python",
   "name": "python",
   "nbconvert_exporter": "python",
   "pygments_lexer": "ipython3",
   "version": "3.11.5"
  }
 },
 "nbformat": 4,
 "nbformat_minor": 5
}
