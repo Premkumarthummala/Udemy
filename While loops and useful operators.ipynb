{
 "cells": [
  {
   "cell_type": "code",
   "execution_count": 1,
   "id": "1046c192",
   "metadata": {},
   "outputs": [],
   "source": [
    "##WHILE Loops\n",
    "# while loops will comtinue to execute a block of code while\n",
    " #some condition remains True.\n",
    "    \n",
    "# syntax of a while loop"
   ]
  },
  {
   "cell_type": "code",
   "execution_count": 2,
   "id": "503487e0",
   "metadata": {},
   "outputs": [],
   "source": [
    " # while some_boolean_condition:\n",
    "     #Do something\n",
    "  # else:\n",
    "     #do something different\n"
   ]
  },
  {
   "cell_type": "code",
   "execution_count": 3,
   "id": "22de9a0b",
   "metadata": {},
   "outputs": [
    {
     "name": "stdout",
     "output_type": "stream",
     "text": [
      "The current number is 0\n",
      "The current number is 1\n",
      "The current number is 2\n",
      "The current number is 3\n",
      "The current number is 4\n",
      "x is not less than 5\n"
     ]
    }
   ],
   "source": [
    "x = 0\n",
    "\n",
    "while x < 5:\n",
    "    print(f'The current number is {x}' )\n",
    "    x = x + 1\n",
    "else :\n",
    "    print(\"x is not less than 5\")"
   ]
  },
  {
   "cell_type": "markdown",
   "id": "510bb4dd",
   "metadata": {},
   "source": [
    "Break , continue and pass\n",
    "\n",
    "We can use break, continue adn pass in our loops to addd functionality for various case\n",
    "\n",
    " Break : breaks out of the currrent closest enclosing loop\n",
    " continue : Goes to the top of the closest enclosing loop\n",
    " pass : does nothing at all."
   ]
  },
  {
   "cell_type": "code",
   "execution_count": 4,
   "id": "2ba2367d",
   "metadata": {},
   "outputs": [
    {
     "name": "stdout",
     "output_type": "stream",
     "text": [
      "End of script\n"
     ]
    }
   ],
   "source": [
    "x = [1,2,3]\n",
    "\n",
    "for item in x:\n",
    "    # if you want to code in future but have run now\n",
    "    pass\n",
    "    # without pass we can face an error\n",
    "print(\"End of script\")"
   ]
  },
  {
   "cell_type": "code",
   "execution_count": 5,
   "id": "dc94123f",
   "metadata": {},
   "outputs": [],
   "source": [
    "mystring = \"Prem\""
   ]
  },
  {
   "cell_type": "code",
   "execution_count": 6,
   "id": "27957b55",
   "metadata": {},
   "outputs": [
    {
     "name": "stdout",
     "output_type": "stream",
     "text": [
      "P\n",
      "r\n",
      "e\n",
      "m\n"
     ]
    }
   ],
   "source": [
    "for letter in mystring:\n",
    "    print(letter)"
   ]
  },
  {
   "cell_type": "code",
   "execution_count": 9,
   "id": "2d6b14e6",
   "metadata": {},
   "outputs": [
    {
     "name": "stdout",
     "output_type": "stream",
     "text": [
      "P\n",
      "r\n",
      "m\n"
     ]
    }
   ],
   "source": [
    "for letter in mystring:\n",
    "    if letter == \"e\":\n",
    "        continue\n",
    "    print(letter)"
   ]
  },
  {
   "cell_type": "code",
   "execution_count": 10,
   "id": "748f22fb",
   "metadata": {},
   "outputs": [
    {
     "name": "stdout",
     "output_type": "stream",
     "text": [
      "P\n",
      "r\n"
     ]
    }
   ],
   "source": [
    "for letter in mystring:\n",
    "    if letter == \"e\":\n",
    "        break\n",
    "    print(letter)"
   ]
  },
  {
   "cell_type": "markdown",
   "id": "fc0bb29a",
   "metadata": {},
   "source": [
    "# USEFUL OPERATORS\n"
   ]
  },
  {
   "cell_type": "code",
   "execution_count": 12,
   "id": "75552c2d",
   "metadata": {},
   "outputs": [],
   "source": [
    "# range is used to iternate numbers \n",
    " # range(start, stop , step)"
   ]
  },
  {
   "cell_type": "code",
   "execution_count": 14,
   "id": "ee3ee81c",
   "metadata": {},
   "outputs": [
    {
     "name": "stdout",
     "output_type": "stream",
     "text": [
      "0\n",
      "1\n",
      "2\n",
      "3\n",
      "4\n",
      "5\n",
      "6\n",
      "7\n",
      "8\n",
      "9\n"
     ]
    }
   ],
   "source": [
    "for x in range(10):\n",
    "    print(x)"
   ]
  },
  {
   "cell_type": "code",
   "execution_count": 15,
   "id": "8efdce3d",
   "metadata": {},
   "outputs": [
    {
     "name": "stdout",
     "output_type": "stream",
     "text": [
      "1\n",
      "2\n",
      "3\n",
      "4\n",
      "5\n",
      "6\n",
      "7\n",
      "8\n",
      "9\n",
      "10\n",
      "11\n",
      "12\n",
      "13\n",
      "14\n",
      "15\n",
      "16\n",
      "17\n",
      "18\n",
      "19\n",
      "20\n",
      "21\n",
      "22\n",
      "23\n",
      "24\n"
     ]
    }
   ],
   "source": [
    "for x in range(1,25):\n",
    "    print(x)"
   ]
  },
  {
   "cell_type": "code",
   "execution_count": 17,
   "id": "4d1dd91d",
   "metadata": {},
   "outputs": [
    {
     "name": "stdout",
     "output_type": "stream",
     "text": [
      "0\n",
      "2\n",
      "4\n",
      "6\n",
      "8\n",
      "10\n"
     ]
    }
   ],
   "source": [
    "for x in range(0,11,2):\n",
    "    print(x)"
   ]
  },
  {
   "cell_type": "code",
   "execution_count": 18,
   "id": "ee9b3262",
   "metadata": {},
   "outputs": [
    {
     "data": {
      "text/plain": [
       "range(0, 11, 2)"
      ]
     },
     "execution_count": 18,
     "metadata": {},
     "output_type": "execute_result"
    }
   ],
   "source": [
    "range(0,11,2)"
   ]
  },
  {
   "cell_type": "code",
   "execution_count": 19,
   "id": "7e6001e7",
   "metadata": {},
   "outputs": [
    {
     "data": {
      "text/plain": [
       "[0, 2, 4, 6, 8, 10]"
      ]
     },
     "execution_count": 19,
     "metadata": {},
     "output_type": "execute_result"
    }
   ],
   "source": [
    "list(range(0,11,2))   # this will help us to enter long list"
   ]
  },
  {
   "cell_type": "code",
   "execution_count": 29,
   "id": "4e820868",
   "metadata": {},
   "outputs": [
    {
     "name": "stdout",
     "output_type": "stream",
     "text": [
      "0\n",
      "p \n",
      "\n",
      "1\n",
      "r \n",
      "\n",
      "2\n",
      "e \n",
      "\n",
      "3\n",
      "m \n",
      "\n",
      "4\n",
      "  \n",
      "\n",
      "5\n",
      "k \n",
      "\n",
      "6\n",
      "u \n",
      "\n",
      "7\n",
      "m \n",
      "\n",
      "8\n",
      "a \n",
      "\n",
      "9\n",
      "r \n",
      "\n"
     ]
    }
   ],
   "source": [
    "index_count = 0\n",
    "\n",
    "word = \"prem kumar\"\n",
    "for letter in word:\n",
    "    print(index_count)\n",
    "    print(letter, \"\\n\")\n",
    "    index_count += 1      #this is manual way of counter.\n",
    "                            #we can use a function called enumerate"
   ]
  },
  {
   "cell_type": "code",
   "execution_count": 30,
   "id": "12f182d5",
   "metadata": {},
   "outputs": [
    {
     "name": "stdout",
     "output_type": "stream",
     "text": [
      "(0, 'p')\n",
      "(1, 'r')\n",
      "(2, 'e')\n",
      "(3, 'm')\n",
      "(4, ' ')\n",
      "(5, 'k')\n",
      "(6, 'u')\n",
      "(7, 'm')\n",
      "(8, 'a')\n",
      "(9, 'r')\n"
     ]
    }
   ],
   "source": [
    "word = \"prem kumar\"\n",
    "for letter in enumerate(word):\n",
    "    print(letter)   # we can see the results in form of tuples"
   ]
  },
  {
   "cell_type": "code",
   "execution_count": 32,
   "id": "860a281e",
   "metadata": {},
   "outputs": [
    {
     "name": "stdout",
     "output_type": "stream",
     "text": [
      "0\n",
      "p \n",
      "\n",
      "1\n",
      "r \n",
      "\n",
      "2\n",
      "e \n",
      "\n",
      "3\n",
      "m \n",
      "\n",
      "4\n",
      "  \n",
      "\n",
      "5\n",
      "k \n",
      "\n",
      "6\n",
      "u \n",
      "\n",
      "7\n",
      "m \n",
      "\n",
      "8\n",
      "a \n",
      "\n",
      "9\n",
      "r \n",
      "\n"
     ]
    }
   ],
   "source": [
    "word = \"prem kumar\"\n",
    "for index,letter in enumerate(word):\n",
    "    print(index)\n",
    "    print(letter, \"\\n\")      # so we can extract index numbering"
   ]
  },
  {
   "cell_type": "code",
   "execution_count": 36,
   "id": "f4b7af23",
   "metadata": {},
   "outputs": [
    {
     "name": "stdout",
     "output_type": "stream",
     "text": [
      "(1, 'a')\n",
      "(2, 'b')\n",
      "(3, 'c')\n"
     ]
    }
   ],
   "source": [
    "#zip function is used to convert two different lists into single tuple\n",
    "\n",
    "\n",
    "list1 = [1,2,3]\n",
    "list2 = [\"a\",\"b\",\"c\"]\n",
    "\n",
    "for i in zip(list1,list2):\n",
    "    print(i)\n",
    "    \n",
    "# if size of list is uneven, them zip operator automatically creates the lowest no.of tuples"
   ]
  },
  {
   "cell_type": "code",
   "execution_count": 37,
   "id": "7b8453e2",
   "metadata": {},
   "outputs": [
    {
     "data": {
      "text/plain": [
       "[(1, 'a'), (2, 'b'), (3, 'c')]"
      ]
     },
     "execution_count": 37,
     "metadata": {},
     "output_type": "execute_result"
    }
   ],
   "source": [
    "# if you dont want tuple, we can list(zip()) to make it list.\n",
    "list(zip(list1,list2))"
   ]
  },
  {
   "cell_type": "code",
   "execution_count": 38,
   "id": "899aec39",
   "metadata": {},
   "outputs": [
    {
     "data": {
      "text/plain": [
       "False"
      ]
     },
     "execution_count": 38,
     "metadata": {},
     "output_type": "execute_result"
    }
   ],
   "source": [
    "# in operator has able to go inside\n",
    "\n",
    "\"x\" in [1,2,4]"
   ]
  },
  {
   "cell_type": "code",
   "execution_count": 39,
   "id": "4e6b6f52",
   "metadata": {},
   "outputs": [
    {
     "data": {
      "text/plain": [
       "True"
      ]
     },
     "execution_count": 39,
     "metadata": {},
     "output_type": "execute_result"
    }
   ],
   "source": [
    "\"x\" in [\"x\", \"y\", \"z\"]"
   ]
  },
  {
   "cell_type": "code",
   "execution_count": 40,
   "id": "9b512268",
   "metadata": {},
   "outputs": [
    {
     "data": {
      "text/plain": [
       "True"
      ]
     },
     "execution_count": 40,
     "metadata": {},
     "output_type": "execute_result"
    }
   ],
   "source": [
    "\"a\" in \"a worls\""
   ]
  },
  {
   "cell_type": "code",
   "execution_count": 41,
   "id": "f5c25a83",
   "metadata": {},
   "outputs": [
    {
     "data": {
      "text/plain": [
       "True"
      ]
     },
     "execution_count": 41,
     "metadata": {},
     "output_type": "execute_result"
    }
   ],
   "source": [
    "\"my\" in {\"my\":912}"
   ]
  },
  {
   "cell_type": "code",
   "execution_count": 43,
   "id": "895cd752",
   "metadata": {},
   "outputs": [
    {
     "data": {
      "text/plain": [
       "True"
      ]
     },
     "execution_count": 43,
     "metadata": {},
     "output_type": "execute_result"
    }
   ],
   "source": [
    "d = {\"keys\": 192}\n",
    "192 in d.values()"
   ]
  },
  {
   "cell_type": "code",
   "execution_count": 44,
   "id": "86bc0801",
   "metadata": {},
   "outputs": [
    {
     "data": {
      "text/plain": [
       "False"
      ]
     },
     "execution_count": 44,
     "metadata": {},
     "output_type": "execute_result"
    }
   ],
   "source": [
    "d = {\"keys\": 192}\n",
    "192 in d.keys()"
   ]
  },
  {
   "cell_type": "code",
   "execution_count": 46,
   "id": "e40017d9",
   "metadata": {},
   "outputs": [
    {
     "data": {
      "text/plain": [
       "10"
      ]
     },
     "execution_count": 46,
     "metadata": {},
     "output_type": "execute_result"
    }
   ],
   "source": [
    "#min()\n",
    "#max()\n",
    "mylist = [10,20,230,3923]\n",
    "\n",
    "min(mylist)"
   ]
  },
  {
   "cell_type": "code",
   "execution_count": 47,
   "id": "8e284ccf",
   "metadata": {},
   "outputs": [
    {
     "data": {
      "text/plain": [
       "3923"
      ]
     },
     "execution_count": 47,
     "metadata": {},
     "output_type": "execute_result"
    }
   ],
   "source": [
    "max(mylist)"
   ]
  },
  {
   "cell_type": "code",
   "execution_count": null,
   "id": "4967d91b",
   "metadata": {},
   "outputs": [],
   "source": [
    "# random operators helps to us import random stuff into our program"
   ]
  },
  {
   "cell_type": "code",
   "execution_count": 50,
   "id": "bcbe32ed",
   "metadata": {},
   "outputs": [],
   "source": [
    "from random import shuffle"
   ]
  },
  {
   "cell_type": "code",
   "execution_count": 51,
   "id": "397f322b",
   "metadata": {},
   "outputs": [],
   "source": [
    "lst = [1,2,3,4,5,6,7,8,9]\n"
   ]
  },
  {
   "cell_type": "code",
   "execution_count": 52,
   "id": "d0b234c9",
   "metadata": {},
   "outputs": [],
   "source": [
    "shuffle(lst)"
   ]
  },
  {
   "cell_type": "code",
   "execution_count": 53,
   "id": "b63ceadf",
   "metadata": {},
   "outputs": [
    {
     "data": {
      "text/plain": [
       "[5, 3, 1, 9, 2, 7, 6, 8, 4]"
      ]
     },
     "execution_count": 53,
     "metadata": {},
     "output_type": "execute_result"
    }
   ],
   "source": [
    "lst"
   ]
  },
  {
   "cell_type": "code",
   "execution_count": 54,
   "id": "c5ec6160",
   "metadata": {},
   "outputs": [
    {
     "data": {
      "text/plain": [
       "[5, 3, 1, 9, 2, 7, 6, 8, 4]"
      ]
     },
     "execution_count": 54,
     "metadata": {},
     "output_type": "execute_result"
    }
   ],
   "source": [
    "lst"
   ]
  },
  {
   "cell_type": "code",
   "execution_count": 55,
   "id": "95322941",
   "metadata": {},
   "outputs": [],
   "source": [
    "from random import randint\n"
   ]
  },
  {
   "cell_type": "code",
   "execution_count": 57,
   "id": "9aa02f3f",
   "metadata": {},
   "outputs": [
    {
     "data": {
      "text/plain": [
       "38"
      ]
     },
     "execution_count": 57,
     "metadata": {},
     "output_type": "execute_result"
    }
   ],
   "source": [
    "randint(0,101) #randint helps us to draw a random integer in the list"
   ]
  },
  {
   "cell_type": "code",
   "execution_count": 58,
   "id": "22e9a0d9",
   "metadata": {},
   "outputs": [
    {
     "data": {
      "text/plain": [
       "65"
      ]
     },
     "execution_count": 58,
     "metadata": {},
     "output_type": "execute_result"
    }
   ],
   "source": [
    "randint(0,101)"
   ]
  },
  {
   "cell_type": "code",
   "execution_count": 59,
   "id": "682ab522",
   "metadata": {},
   "outputs": [
    {
     "name": "stdout",
     "output_type": "stream",
     "text": [
      "Enter the number: 00\n"
     ]
    },
    {
     "data": {
      "text/plain": [
       "'00'"
      ]
     },
     "execution_count": 59,
     "metadata": {},
     "output_type": "execute_result"
    }
   ],
   "source": [
    "# input operator is used to collect data from user\n",
    "\n",
    "input('Enter the number: ')"
   ]
  },
  {
   "cell_type": "code",
   "execution_count": 60,
   "id": "51a203f5",
   "metadata": {},
   "outputs": [
    {
     "name": "stdout",
     "output_type": "stream",
     "text": [
      "Enter the number: 1021\n"
     ]
    }
   ],
   "source": [
    "lst = input('Enter the number: ')"
   ]
  },
  {
   "cell_type": "code",
   "execution_count": 61,
   "id": "67984b96",
   "metadata": {},
   "outputs": [
    {
     "data": {
      "text/plain": [
       "'1021'"
      ]
     },
     "execution_count": 61,
     "metadata": {},
     "output_type": "execute_result"
    }
   ],
   "source": [
    "lst #input always gives us string"
   ]
  },
  {
   "cell_type": "code",
   "execution_count": 62,
   "id": "6d42f94d",
   "metadata": {},
   "outputs": [
    {
     "data": {
      "text/plain": [
       "str"
      ]
     },
     "execution_count": 62,
     "metadata": {},
     "output_type": "execute_result"
    }
   ],
   "source": [
    "type(lst)"
   ]
  },
  {
   "cell_type": "code",
   "execution_count": 63,
   "id": "9133d683",
   "metadata": {},
   "outputs": [
    {
     "data": {
      "text/plain": [
       "1021.0"
      ]
     },
     "execution_count": 63,
     "metadata": {},
     "output_type": "execute_result"
    }
   ],
   "source": [
    "# if you want to convert str to int\n",
    "\n",
    "float(lst)"
   ]
  },
  {
   "cell_type": "code",
   "execution_count": 65,
   "id": "aef10907",
   "metadata": {},
   "outputs": [
    {
     "name": "stdout",
     "output_type": "stream",
     "text": [
      "Enter the number: 69\n"
     ]
    }
   ],
   "source": [
    "lst = int(input('Enter the number: '))"
   ]
  },
  {
   "cell_type": "code",
   "execution_count": 66,
   "id": "a49fbc87",
   "metadata": {},
   "outputs": [
    {
     "data": {
      "text/plain": [
       "int"
      ]
     },
     "execution_count": 66,
     "metadata": {},
     "output_type": "execute_result"
    }
   ],
   "source": [
    "type(lst)"
   ]
  },
  {
   "cell_type": "code",
   "execution_count": null,
   "id": "25b3dead",
   "metadata": {},
   "outputs": [],
   "source": []
  }
 ],
 "metadata": {
  "kernelspec": {
   "display_name": "Python 3 (ipykernel)",
   "language": "python",
   "name": "python3"
  },
  "language_info": {
   "codemirror_mode": {
    "name": "ipython",
    "version": 3
   },
   "file_extension": ".py",
   "mimetype": "text/x-python",
   "name": "python",
   "nbconvert_exporter": "python",
   "pygments_lexer": "ipython3",
   "version": "3.11.5"
  }
 },
 "nbformat": 4,
 "nbformat_minor": 5
}
