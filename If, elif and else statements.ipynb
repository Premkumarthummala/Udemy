{
 "cells": [
  {
   "cell_type": "code",
   "execution_count": 5,
   "id": "0902b35c",
   "metadata": {},
   "outputs": [],
   "source": [
    "# Syntax of an if statement\n",
    "#if some_condition:\n",
    "    #execute some code\n",
    "#else:\n",
    "    #do something else\n",
    "#case-sensitive and space-sensitive"
   ]
  },
  {
   "cell_type": "code",
   "execution_count": 6,
   "id": "372bcca9",
   "metadata": {},
   "outputs": [
    {
     "name": "stdout",
     "output_type": "stream",
     "text": [
      "True\n"
     ]
    }
   ],
   "source": [
    "if True:\n",
    "    print(\"True\")"
   ]
  },
  {
   "cell_type": "code",
   "execution_count": 8,
   "id": "6e36748d",
   "metadata": {},
   "outputs": [
    {
     "name": "stdout",
     "output_type": "stream",
     "text": [
      "FEED ME!\n"
     ]
    }
   ],
   "source": [
    "Hungry = True\n",
    "if Hungry:\n",
    "    print(\"FEED ME!\")"
   ]
  },
  {
   "cell_type": "code",
   "execution_count": 11,
   "id": "1ed4a95d",
   "metadata": {},
   "outputs": [
    {
     "name": "stdout",
     "output_type": "stream",
     "text": [
      "Not hungry\n"
     ]
    }
   ],
   "source": [
    "Hungry = False\n",
    "if Hungry:\n",
    "    print(\"FEED ME!\")\n",
    "else:\n",
    "    print(\"Not hungry\")"
   ]
  },
  {
   "cell_type": "code",
   "execution_count": 14,
   "id": "41a11728",
   "metadata": {},
   "outputs": [
    {
     "name": "stdout",
     "output_type": "stream",
     "text": [
      "money is cool\n"
     ]
    }
   ],
   "source": [
    "loc = \"Bank\"\n",
    "\n",
    "if loc == \"Auto shops\":\n",
    "    print(\"Cars are cool\")\n",
    "elif loc == \"Bank\":\n",
    "    print('money is cool')\n",
    "elif loc == (\"Store\"):\n",
    "    print(\"Welcome to the store\")\n",
    "else:\n",
    "    print(\"idk much\")"
   ]
  },
  {
   "cell_type": "code",
   "execution_count": 15,
   "id": "a3fda29e",
   "metadata": {},
   "outputs": [
    {
     "name": "stdout",
     "output_type": "stream",
     "text": [
      "idk much\n"
     ]
    }
   ],
   "source": [
    "loc = \"game\"\n",
    "\n",
    "if loc == \"Auto shops\":\n",
    "    print(\"Cars are cool\")\n",
    "elif loc == \"Bank\":\n",
    "    print('money is cool')\n",
    "elif loc == (\"Store\"):\n",
    "    print(\"Welcome to the store\")\n",
    "else:\n",
    "    print(\"idk much\")"
   ]
  },
  {
   "cell_type": "code",
   "execution_count": 16,
   "id": "103bc8cd",
   "metadata": {},
   "outputs": [
    {
     "name": "stdout",
     "output_type": "stream",
     "text": [
      "Welcome to the store\n"
     ]
    }
   ],
   "source": [
    "loc = \"Store\"\n",
    "\n",
    "if loc == \"Auto shops\":\n",
    "    print(\"Cars are cool\")\n",
    "elif loc == \"Bank\":\n",
    "    print('money is cool')\n",
    "elif loc == (\"Store\"):\n",
    "    print(\"Welcome to the store\")\n",
    "else:\n",
    "    print(\"idk much\")"
   ]
  },
  {
   "cell_type": "code",
   "execution_count": 17,
   "id": "373de1a5",
   "metadata": {},
   "outputs": [
    {
     "name": "stdout",
     "output_type": "stream",
     "text": [
      "Hello Jose\n"
     ]
    }
   ],
   "source": [
    "Name = \"Jose\"\n",
    "\n",
    "if Name == \"Ravi\":\n",
    "    print(\"Hello Ravi\")\n",
    "elif Name == \"Jose\":\n",
    "    print(\"Hello Jose\")\n",
    "else:\n",
    "    print(\"Whats your name?\")"
   ]
  },
  {
   "cell_type": "code",
   "execution_count": 18,
   "id": "8162423a",
   "metadata": {},
   "outputs": [
    {
     "name": "stdout",
     "output_type": "stream",
     "text": [
      "Whats your name?\n"
     ]
    }
   ],
   "source": [
    "Name = \"Prem\"\n",
    "\n",
    "if Name == \"Ravi\":\n",
    "    print(\"Hello Ravi\")\n",
    "elif Name == \"Jose\":\n",
    "    print(\"Hello Jose\")\n",
    "else:\n",
    "    print(\"Whats your name?\")"
   ]
  },
  {
   "cell_type": "code",
   "execution_count": null,
   "id": "1e01b9fc",
   "metadata": {},
   "outputs": [],
   "source": []
  }
 ],
 "metadata": {
  "kernelspec": {
   "display_name": "Python 3 (ipykernel)",
   "language": "python",
   "name": "python3"
  },
  "language_info": {
   "codemirror_mode": {
    "name": "ipython",
    "version": 3
   },
   "file_extension": ".py",
   "mimetype": "text/x-python",
   "name": "python",
   "nbconvert_exporter": "python",
   "pygments_lexer": "ipython3",
   "version": "3.11.5"
  }
 },
 "nbformat": 4,
 "nbformat_minor": 5
}
