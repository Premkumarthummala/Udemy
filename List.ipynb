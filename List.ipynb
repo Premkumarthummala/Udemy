{
 "cells": [
  {
   "cell_type": "code",
   "execution_count": 2,
   "id": "5c7521c0",
   "metadata": {},
   "outputs": [],
   "source": [
    "# list are ordered seqences that can hold variety of object types like strings,numbers.\n",
    "# uses []   for example [1,2,3,4,5,6]"
   ]
  },
  {
   "cell_type": "code",
   "execution_count": 3,
   "id": "f9d1df22",
   "metadata": {},
   "outputs": [],
   "source": [
    "my_list = [\"prem\",21,\"Student\",32.3]"
   ]
  },
  {
   "cell_type": "code",
   "execution_count": 4,
   "id": "0e8663bc",
   "metadata": {},
   "outputs": [
    {
     "data": {
      "text/plain": [
       "4"
      ]
     },
     "execution_count": 4,
     "metadata": {},
     "output_type": "execute_result"
    }
   ],
   "source": [
    "# we can use slicing and indexing just like strings\n",
    "len(my_list)\n"
   ]
  },
  {
   "cell_type": "code",
   "execution_count": 5,
   "id": "9fc39f4b",
   "metadata": {},
   "outputs": [
    {
     "data": {
      "text/plain": [
       "'prem'"
      ]
     },
     "execution_count": 5,
     "metadata": {},
     "output_type": "execute_result"
    }
   ],
   "source": [
    "my_list[0]"
   ]
  },
  {
   "cell_type": "code",
   "execution_count": 6,
   "id": "fb2ed0de",
   "metadata": {},
   "outputs": [
    {
     "data": {
      "text/plain": [
       "[21, 'Student', 32.3]"
      ]
     },
     "execution_count": 6,
     "metadata": {},
     "output_type": "execute_result"
    }
   ],
   "source": [
    "my_list[1:]"
   ]
  },
  {
   "cell_type": "code",
   "execution_count": 7,
   "id": "1e09b5d8",
   "metadata": {},
   "outputs": [
    {
     "data": {
      "text/plain": [
       "['prem', 21, 'Student', 32.3]"
      ]
     },
     "execution_count": 7,
     "metadata": {},
     "output_type": "execute_result"
    }
   ],
   "source": [
    "my_list[:4]"
   ]
  },
  {
   "cell_type": "code",
   "execution_count": 10,
   "id": "1a3a98e7",
   "metadata": {},
   "outputs": [],
   "source": [
    "# we can concatenate as well\n",
    "other_list = [\"indian\",\"GGU\"]"
   ]
  },
  {
   "cell_type": "code",
   "execution_count": 11,
   "id": "64ce1055",
   "metadata": {},
   "outputs": [
    {
     "data": {
      "text/plain": [
       "['prem', 21, 'Student', 32.3, 'indian', 'GGU']"
      ]
     },
     "execution_count": 11,
     "metadata": {},
     "output_type": "execute_result"
    }
   ],
   "source": [
    "my_list + other_list"
   ]
  },
  {
   "cell_type": "code",
   "execution_count": 12,
   "id": "281b42b5",
   "metadata": {},
   "outputs": [],
   "source": [
    "new_list = my_list + other_list"
   ]
  },
  {
   "cell_type": "code",
   "execution_count": 13,
   "id": "6d3d97a8",
   "metadata": {},
   "outputs": [
    {
     "data": {
      "text/plain": [
       "['prem', 21, 'Student', 32.3, 'indian', 'GGU']"
      ]
     },
     "execution_count": 13,
     "metadata": {},
     "output_type": "execute_result"
    }
   ],
   "source": [
    "new_list"
   ]
  },
  {
   "cell_type": "code",
   "execution_count": 14,
   "id": "04a87246",
   "metadata": {},
   "outputs": [],
   "source": [
    "# Most thing : list can be muttable but not string"
   ]
  },
  {
   "cell_type": "code",
   "execution_count": 15,
   "id": "69d51a69",
   "metadata": {},
   "outputs": [],
   "source": [
    "new_list = [\"one\",\"Two\",\"Three\",\"Four\",\"Five\"]"
   ]
  },
  {
   "cell_type": "code",
   "execution_count": 18,
   "id": "fecb5428",
   "metadata": {},
   "outputs": [],
   "source": [
    "new_list[2]= \"THREE all caps\""
   ]
  },
  {
   "cell_type": "code",
   "execution_count": 19,
   "id": "9db7b2d8",
   "metadata": {},
   "outputs": [
    {
     "data": {
      "text/plain": [
       "['one', 'Two', 'THREE all caps', 'Four', 'Five']"
      ]
     },
     "execution_count": 19,
     "metadata": {},
     "output_type": "execute_result"
    }
   ],
   "source": [
    "new_list   # we can muttate list"
   ]
  },
  {
   "cell_type": "code",
   "execution_count": 20,
   "id": "46c9e20f",
   "metadata": {},
   "outputs": [],
   "source": [
    "new_list.append(\"Six\") #append() is used to add strings"
   ]
  },
  {
   "cell_type": "code",
   "execution_count": 21,
   "id": "86c84292",
   "metadata": {},
   "outputs": [
    {
     "data": {
      "text/plain": [
       "['one', 'Two', 'THREE all caps', 'Four', 'Five', 'Six']"
      ]
     },
     "execution_count": 21,
     "metadata": {},
     "output_type": "execute_result"
    }
   ],
   "source": [
    "new_list"
   ]
  },
  {
   "cell_type": "code",
   "execution_count": 22,
   "id": "20d1cd9a",
   "metadata": {},
   "outputs": [
    {
     "data": {
      "text/plain": [
       "'Six'"
      ]
     },
     "execution_count": 22,
     "metadata": {},
     "output_type": "execute_result"
    }
   ],
   "source": [
    "new_list.pop() #pop() is used to remove items which are at end."
   ]
  },
  {
   "cell_type": "code",
   "execution_count": 23,
   "id": "530c858e",
   "metadata": {},
   "outputs": [
    {
     "data": {
      "text/plain": [
       "['one', 'Two', 'THREE all caps', 'Four', 'Five']"
      ]
     },
     "execution_count": 23,
     "metadata": {},
     "output_type": "execute_result"
    }
   ],
   "source": [
    "new_list"
   ]
  },
  {
   "cell_type": "code",
   "execution_count": 24,
   "id": "52e55a9c",
   "metadata": {},
   "outputs": [],
   "source": [
    "# we can assign the elements which are popping"
   ]
  },
  {
   "cell_type": "code",
   "execution_count": 28,
   "id": "242ed613",
   "metadata": {},
   "outputs": [],
   "source": [
    "popped_item = new_list.pop()"
   ]
  },
  {
   "cell_type": "code",
   "execution_count": 29,
   "id": "31ef12b4",
   "metadata": {},
   "outputs": [
    {
     "data": {
      "text/plain": [
       "'Four'"
      ]
     },
     "execution_count": 29,
     "metadata": {},
     "output_type": "execute_result"
    }
   ],
   "source": [
    "popped_item"
   ]
  },
  {
   "cell_type": "code",
   "execution_count": 30,
   "id": "eadd514f",
   "metadata": {},
   "outputs": [],
   "source": [
    "new_list = [\"one\",\"Two\",\"Three\",\"Four\",\"Five\"]"
   ]
  },
  {
   "cell_type": "code",
   "execution_count": 31,
   "id": "97cd1eb7",
   "metadata": {},
   "outputs": [],
   "source": [
    "# we can even remove items using their index numbers"
   ]
  },
  {
   "cell_type": "code",
   "execution_count": 33,
   "id": "7ff6d576",
   "metadata": {},
   "outputs": [
    {
     "data": {
      "text/plain": [
       "'Three'"
      ]
     },
     "execution_count": 33,
     "metadata": {},
     "output_type": "execute_result"
    }
   ],
   "source": [
    "new_list.pop(2)"
   ]
  },
  {
   "cell_type": "code",
   "execution_count": 34,
   "id": "5788de8c",
   "metadata": {},
   "outputs": [
    {
     "data": {
      "text/plain": [
       "['one', 'Two', 'Four', 'Five']"
      ]
     },
     "execution_count": 34,
     "metadata": {},
     "output_type": "execute_result"
    }
   ],
   "source": [
    "new_list"
   ]
  },
  {
   "cell_type": "code",
   "execution_count": 35,
   "id": "75888515",
   "metadata": {},
   "outputs": [],
   "source": [
    "new_list = [\"a\",\"e\",\"s\",\"b\",\"c\"]"
   ]
  },
  {
   "cell_type": "code",
   "execution_count": 36,
   "id": "09e74893",
   "metadata": {},
   "outputs": [],
   "source": [
    "new_list.sort()   # sort is used to arrange but doesnt have a attribute"
   ]
  },
  {
   "cell_type": "code",
   "execution_count": 37,
   "id": "4c09e1b0",
   "metadata": {},
   "outputs": [
    {
     "data": {
      "text/plain": [
       "['a', 'b', 'c', 'e', 's']"
      ]
     },
     "execution_count": 37,
     "metadata": {},
     "output_type": "execute_result"
    }
   ],
   "source": [
    "new_list"
   ]
  },
  {
   "cell_type": "code",
   "execution_count": 41,
   "id": "79691a29",
   "metadata": {},
   "outputs": [],
   "source": [
    "# if you want to save sorted list, we have to assign them with variable at the same line.\n",
    "new_list.sort()\n",
    "my_sorted_list = new_list"
   ]
  },
  {
   "cell_type": "code",
   "execution_count": 42,
   "id": "e3b21d48",
   "metadata": {},
   "outputs": [
    {
     "data": {
      "text/plain": [
       "['a', 'b', 'c', 'e', 's']"
      ]
     },
     "execution_count": 42,
     "metadata": {},
     "output_type": "execute_result"
    }
   ],
   "source": [
    "my_sorted_list"
   ]
  },
  {
   "cell_type": "code",
   "execution_count": 43,
   "id": "ce07ddcd",
   "metadata": {},
   "outputs": [],
   "source": [
    "num_list = [1,2,3,4,2]"
   ]
  },
  {
   "cell_type": "code",
   "execution_count": 44,
   "id": "37455eae",
   "metadata": {},
   "outputs": [],
   "source": [
    "num_list.reverse() #reverse() is used to arrange everything in reverse order"
   ]
  },
  {
   "cell_type": "code",
   "execution_count": 45,
   "id": "3648f1fe",
   "metadata": {
    "scrolled": true
   },
   "outputs": [
    {
     "data": {
      "text/plain": [
       "[2, 4, 3, 2, 1]"
      ]
     },
     "execution_count": 45,
     "metadata": {},
     "output_type": "execute_result"
    }
   ],
   "source": [
    "num_list"
   ]
  },
  {
   "cell_type": "code",
   "execution_count": 46,
   "id": "b9716791",
   "metadata": {},
   "outputs": [],
   "source": [
    "num_list.sort()"
   ]
  },
  {
   "cell_type": "code",
   "execution_count": 47,
   "id": "77890fd5",
   "metadata": {},
   "outputs": [
    {
     "data": {
      "text/plain": [
       "[1, 2, 2, 3, 4]"
      ]
     },
     "execution_count": 47,
     "metadata": {},
     "output_type": "execute_result"
    }
   ],
   "source": [
    "num_list"
   ]
  },
  {
   "cell_type": "code",
   "execution_count": null,
   "id": "83724582",
   "metadata": {},
   "outputs": [],
   "source": []
  }
 ],
 "metadata": {
  "kernelspec": {
   "display_name": "Python 3 (ipykernel)",
   "language": "python",
   "name": "python3"
  },
  "language_info": {
   "codemirror_mode": {
    "name": "ipython",
    "version": 3
   },
   "file_extension": ".py",
   "mimetype": "text/x-python",
   "name": "python",
   "nbconvert_exporter": "python",
   "pygments_lexer": "ipython3",
   "version": "3.11.5"
  }
 },
 "nbformat": 4,
 "nbformat_minor": 5
}
