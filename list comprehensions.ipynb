{
 "cells": [
  {
   "cell_type": "code",
   "execution_count": 1,
   "id": "71b8089c",
   "metadata": {},
   "outputs": [],
   "source": [
    "mystring = \"Premkumar\""
   ]
  },
  {
   "cell_type": "code",
   "execution_count": 2,
   "id": "247c90b6",
   "metadata": {},
   "outputs": [],
   "source": [
    "mylist = []\n",
    "\n",
    "for i in mystring:\n",
    "    mylist.append(i)"
   ]
  },
  {
   "cell_type": "code",
   "execution_count": 3,
   "id": "d68416c5",
   "metadata": {},
   "outputs": [
    {
     "name": "stdout",
     "output_type": "stream",
     "text": [
      "['P', 'r', 'e', 'm', 'k', 'u', 'm', 'a', 'r']\n"
     ]
    }
   ],
   "source": [
    "print(mylist)"
   ]
  },
  {
   "cell_type": "code",
   "execution_count": 4,
   "id": "5dedbd59",
   "metadata": {},
   "outputs": [],
   "source": [
    "# we can simplify above loop\n",
    "\n",
    "mylist = [x for x in \"Premkumar\"]"
   ]
  },
  {
   "cell_type": "code",
   "execution_count": 5,
   "id": "ffbf34d6",
   "metadata": {},
   "outputs": [
    {
     "data": {
      "text/plain": [
       "['P', 'r', 'e', 'm', 'k', 'u', 'm', 'a', 'r']"
      ]
     },
     "execution_count": 5,
     "metadata": {},
     "output_type": "execute_result"
    }
   ],
   "source": [
    "mylist"
   ]
  },
  {
   "cell_type": "code",
   "execution_count": 7,
   "id": "e1236526",
   "metadata": {},
   "outputs": [],
   "source": [
    "mylist = [num**3 for num in range(0,11)]"
   ]
  },
  {
   "cell_type": "code",
   "execution_count": 8,
   "id": "f14d5d86",
   "metadata": {},
   "outputs": [
    {
     "name": "stdout",
     "output_type": "stream",
     "text": [
      "[0, 1, 8, 27, 64, 125, 216, 343, 512, 729, 1000]\n"
     ]
    }
   ],
   "source": [
    "print(mylist)"
   ]
  },
  {
   "cell_type": "code",
   "execution_count": 11,
   "id": "584dbb9d",
   "metadata": {},
   "outputs": [
    {
     "name": "stdout",
     "output_type": "stream",
     "text": [
      "[0, 2, 4, 6, 8, 10]\n"
     ]
    }
   ],
   "source": [
    "mylist = [num for num in range(0,11) if num % 2 == 0]\n",
    "print(mylist)"
   ]
  },
  {
   "cell_type": "code",
   "execution_count": 12,
   "id": "63a38af6",
   "metadata": {},
   "outputs": [],
   "source": [
    "celcius = [0,10,16,9,35.6]\n",
    "fahrenheit = [((9/5)*temp + 32) for temp in celcius]"
   ]
  },
  {
   "cell_type": "code",
   "execution_count": 13,
   "id": "964eb788",
   "metadata": {},
   "outputs": [
    {
     "name": "stdout",
     "output_type": "stream",
     "text": [
      "[32.0, 50.0, 60.8, 48.2, 96.08]\n"
     ]
    }
   ],
   "source": [
    "print(fahrenheit)"
   ]
  },
  {
   "cell_type": "code",
   "execution_count": 14,
   "id": "66a5cb84",
   "metadata": {},
   "outputs": [],
   "source": [
    "fahrenheit =[]\n",
    "\n",
    "for temp in celcius:\n",
    "    fahrenheit.append( (9/5) * temp + 32)"
   ]
  },
  {
   "cell_type": "code",
   "execution_count": 15,
   "id": "02e86fe8",
   "metadata": {},
   "outputs": [
    {
     "name": "stdout",
     "output_type": "stream",
     "text": [
      "[32.0, 50.0, 60.8, 48.2, 96.08]\n"
     ]
    }
   ],
   "source": [
    "print(fahrenheit)"
   ]
  },
  {
   "cell_type": "code",
   "execution_count": 19,
   "id": "2f1ad5c5",
   "metadata": {},
   "outputs": [
    {
     "name": "stdout",
     "output_type": "stream",
     "text": [
      "[2, 40, 800, 4, 80, 1600, 6, 120, 2400]\n"
     ]
    }
   ],
   "source": [
    " #nested loops\n",
    "lst =[]\n",
    "\n",
    "for x in [2,4,6]:\n",
    "    for y in [1,20,400]:\n",
    "        lst.append(x*y)\n",
    "print(lst)"
   ]
  },
  {
   "cell_type": "code",
   "execution_count": 22,
   "id": "382a99c6",
   "metadata": {},
   "outputs": [],
   "source": [
    "lst = [ x * y for x in [2,4,6] for y in [1,20,400]]\n",
    "\n",
    "#not reccommened to use"
   ]
  },
  {
   "cell_type": "code",
   "execution_count": 23,
   "id": "6451bd9d",
   "metadata": {},
   "outputs": [
    {
     "name": "stdout",
     "output_type": "stream",
     "text": [
      "[2, 40, 800, 4, 80, 1600, 6, 120, 2400]\n"
     ]
    }
   ],
   "source": [
    "print(lst)"
   ]
  },
  {
   "cell_type": "code",
   "execution_count": null,
   "id": "8cae5897",
   "metadata": {},
   "outputs": [],
   "source": []
  },
  {
   "cell_type": "code",
   "execution_count": null,
   "id": "26db668f",
   "metadata": {},
   "outputs": [],
   "source": []
  },
  {
   "cell_type": "code",
   "execution_count": 10,
   "id": "30d4467e",
   "metadata": {},
   "outputs": [],
   "source": [
    "st = \"prem surya haritha chutki satya\"\n",
    "words = []\n",
    "for x in st.split():\n",
    "    words.append(x)\n",
    "    \n",
    "    if words[0] == \"s\":\n",
    "        print(words)\n",
    "    "
   ]
  },
  {
   "cell_type": "code",
   "execution_count": 2,
   "id": "9de84807",
   "metadata": {},
   "outputs": [
    {
     "name": "stdout",
     "output_type": "stream",
     "text": [
      "['prem', 'surya', 'haritha', 'chutki', 'satya']\n"
     ]
    }
   ],
   "source": []
  },
  {
   "cell_type": "code",
   "execution_count": 7,
   "id": "a6df8af5",
   "metadata": {},
   "outputs": [
    {
     "name": "stdout",
     "output_type": "stream",
     "text": [
      "surya\n",
      "satya\n"
     ]
    }
   ],
   "source": [
    "st = \"prem surya haritha chutki satya\"\n",
    "words = []\n",
    "for x in st.split():\n",
    "    words.append(x)\n",
    "    \n",
    "for word in words:\n",
    "    if word.startswith(\"s\"):\n",
    "        print(word)"
   ]
  },
  {
   "cell_type": "code",
   "execution_count": 12,
   "id": "1483f529",
   "metadata": {},
   "outputs": [
    {
     "data": {
      "text/plain": [
       "[0, 2, 4, 6, 8, 10]"
      ]
     },
     "execution_count": 12,
     "metadata": {},
     "output_type": "execute_result"
    }
   ],
   "source": [
    "list(range(0,11,2))"
   ]
  },
  {
   "cell_type": "code",
   "execution_count": 14,
   "id": "b12dec14",
   "metadata": {},
   "outputs": [],
   "source": [
    "odd = [ x for x in range(0,50) if x % 3 == 0]"
   ]
  },
  {
   "cell_type": "code",
   "execution_count": 15,
   "id": "7a6cf639",
   "metadata": {},
   "outputs": [
    {
     "name": "stdout",
     "output_type": "stream",
     "text": [
      "[0, 3, 6, 9, 12, 15, 18, 21, 24, 27, 30, 33, 36, 39, 42, 45, 48]\n"
     ]
    }
   ],
   "source": [
    "print(odd)"
   ]
  },
  {
   "cell_type": "code",
   "execution_count": 8,
   "id": "eb3eb290",
   "metadata": {},
   "outputs": [
    {
     "name": "stdout",
     "output_type": "stream",
     "text": [
      "word\n",
      "in\n",
      "this\n",
      "sentence\n",
      "that\n",
      "an\n",
      "even\n",
      "number\n",
      "of\n"
     ]
    }
   ],
   "source": [
    "st = \"print every word in this sentence that has an even number of letters\"\n",
    "\n",
    "words = []\n",
    "\n",
    "for i in st.split():\n",
    "    if len(i) % 2 == 0:\n",
    "        print(i)"
   ]
  },
  {
   "cell_type": "code",
   "execution_count": 6,
   "id": "c0d1cd18",
   "metadata": {},
   "outputs": [
    {
     "name": "stdout",
     "output_type": "stream",
     "text": [
      "['print', 'every', 'word', 'in', 'this', 'sentence', 'that', 'has', 'an', 'even', 'number', 'of', 'letters']\n"
     ]
    }
   ],
   "source": [
    "print(words)"
   ]
  },
  {
   "cell_type": "code",
   "execution_count": 7,
   "id": "9bacb192",
   "metadata": {},
   "outputs": [],
   "source": [
    "st = \"print every word in this sentence that has an even number of letters\"\n",
    "\n",
    "words = []\n",
    "\n",
    "for i in st.split():\n",
    "    words.append(i)\n",
    "if len(i) % 2 == 0:\n",
    "    print(words)"
   ]
  },
  {
   "cell_type": "code",
   "execution_count": 10,
   "id": "36173d08",
   "metadata": {},
   "outputs": [
    {
     "name": "stdout",
     "output_type": "stream",
     "text": [
      "1\n",
      "2\n",
      "Fizz\n",
      "4\n",
      "Buzz\n",
      "Fizz\n",
      "7\n",
      "8\n",
      "Fizz\n",
      "Buzz\n",
      "11\n",
      "Fizz\n",
      "13\n",
      "14\n",
      "FizzBuzz\n",
      "16\n",
      "17\n",
      "Fizz\n",
      "19\n",
      "Buzz\n",
      "Fizz\n",
      "22\n",
      "23\n",
      "Fizz\n",
      "Buzz\n",
      "26\n",
      "Fizz\n",
      "28\n",
      "29\n",
      "FizzBuzz\n",
      "31\n",
      "32\n",
      "Fizz\n",
      "34\n",
      "Buzz\n",
      "Fizz\n",
      "37\n",
      "38\n",
      "Fizz\n",
      "Buzz\n",
      "41\n",
      "Fizz\n",
      "43\n",
      "44\n",
      "FizzBuzz\n",
      "46\n",
      "47\n",
      "Fizz\n",
      "49\n",
      "Buzz\n",
      "Fizz\n",
      "52\n",
      "53\n",
      "Fizz\n",
      "Buzz\n",
      "56\n",
      "Fizz\n",
      "58\n",
      "59\n",
      "FizzBuzz\n",
      "61\n",
      "62\n",
      "Fizz\n",
      "64\n",
      "Buzz\n",
      "Fizz\n",
      "67\n",
      "68\n",
      "Fizz\n",
      "Buzz\n",
      "71\n",
      "Fizz\n",
      "73\n",
      "74\n",
      "FizzBuzz\n",
      "76\n",
      "77\n",
      "Fizz\n",
      "79\n",
      "Buzz\n",
      "Fizz\n",
      "82\n",
      "83\n",
      "Fizz\n",
      "Buzz\n",
      "86\n",
      "Fizz\n",
      "88\n",
      "89\n",
      "FizzBuzz\n",
      "91\n",
      "92\n",
      "Fizz\n",
      "94\n",
      "Buzz\n",
      "Fizz\n",
      "97\n",
      "98\n",
      "Fizz\n",
      "Buzz\n"
     ]
    }
   ],
   "source": [
    "for x in range (1,101):\n",
    "    if x % 3 == 0 and x % 5 == 0:\n",
    "        print(\"FizzBuzz\")\n",
    "    elif x % 3 == 0:\n",
    "        print(\"Fizz\")\n",
    "    elif x % 5 == 0:\n",
    "        print(\"Buzz\")\n",
    "    else : \n",
    "        print(x)"
   ]
  },
  {
   "cell_type": "code",
   "execution_count": 2,
   "id": "d71c523c",
   "metadata": {},
   "outputs": [
    {
     "name": "stdout",
     "output_type": "stream",
     "text": [
      "p\n",
      "e\n",
      "w\n",
      "i\n",
      "t\n",
      "s\n",
      "t\n",
      "h\n",
      "a\n",
      "e\n",
      "n\n",
      "o\n",
      "l\n"
     ]
    }
   ],
   "source": [
    "st = \"print every word in this sentence that has an even number of letters\"\n",
    "\n",
    "for i in st.split():\n",
    "    print(i[0])"
   ]
  },
  {
   "cell_type": "code",
   "execution_count": null,
   "id": "2299d991",
   "metadata": {},
   "outputs": [],
   "source": []
  }
 ],
 "metadata": {
  "kernelspec": {
   "display_name": "Python 3 (ipykernel)",
   "language": "python",
   "name": "python3"
  },
  "language_info": {
   "codemirror_mode": {
    "name": "ipython",
    "version": 3
   },
   "file_extension": ".py",
   "mimetype": "text/x-python",
   "name": "python",
   "nbconvert_exporter": "python",
   "pygments_lexer": "ipython3",
   "version": "3.11.5"
  }
 },
 "nbformat": 4,
 "nbformat_minor": 5
}
